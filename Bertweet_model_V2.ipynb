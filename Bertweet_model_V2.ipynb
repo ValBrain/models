{
  "nbformat": 4,
  "nbformat_minor": 0,
  "metadata": {
    "colab": {
      "name": "Bertweet_model_V2.ipynb",
      "provenance": [],
      "collapsed_sections": [],
      "include_colab_link": true
    },
    "kernelspec": {
      "name": "python3",
      "display_name": "Python 3"
    },
    "language_info": {
      "name": "python"
    },
    "accelerator": "GPU"
  },
  "cells": [
    {
      "cell_type": "markdown",
      "metadata": {
        "id": "view-in-github",
        "colab_type": "text"
      },
      "source": [
        "<a href=\"https://colab.research.google.com/github/ValBrain/models/blob/master/Bertweet_model_V2.ipynb\" target=\"_parent\"><img src=\"https://colab.research.google.com/assets/colab-badge.svg\" alt=\"Open In Colab\"/></a>"
      ]
    },
    {
      "cell_type": "code",
      "metadata": {
        "colab": {
          "base_uri": "https://localhost:8080/"
        },
        "id": "RrHICNfwp4V1",
        "outputId": "8b802011-8eb8-4c92-805b-3d9d1515eaa1"
      },
      "source": [
        "import sys\n",
        "import numpy as np\n",
        "import pandas as pd\n",
        "import matplotlib.pyplot as plt\n",
        "\n",
        "import torch\n",
        "import torch.nn as nn\n",
        "import torch.nn.functional as F\n",
        "import torch.optim as optim\n",
        "from torch.utils.data import Dataset, DataLoader, random_split\n",
        "from torch.utils.data.sampler import SubsetRandomSampler\n",
        "\n",
        "!pip install transformers\n",
        "!pip install emoji\n",
        "\n",
        "from transformers import AutoModel, AutoTokenizer, BertForSequenceClassification, BertTokenizer"
      ],
      "execution_count": 1,
      "outputs": [
        {
          "output_type": "stream",
          "text": [
            "Requirement already satisfied: transformers in /usr/local/lib/python3.7/dist-packages (4.4.2)\n",
            "Requirement already satisfied: regex!=2019.12.17 in /usr/local/lib/python3.7/dist-packages (from transformers) (2019.12.20)\n",
            "Requirement already satisfied: sacremoses in /usr/local/lib/python3.7/dist-packages (from transformers) (0.0.44)\n",
            "Requirement already satisfied: numpy>=1.17 in /usr/local/lib/python3.7/dist-packages (from transformers) (1.19.5)\n",
            "Requirement already satisfied: filelock in /usr/local/lib/python3.7/dist-packages (from transformers) (3.0.12)\n",
            "Requirement already satisfied: tokenizers<0.11,>=0.10.1 in /usr/local/lib/python3.7/dist-packages (from transformers) (0.10.2)\n",
            "Requirement already satisfied: importlib-metadata; python_version < \"3.8\" in /usr/local/lib/python3.7/dist-packages (from transformers) (3.8.1)\n",
            "Requirement already satisfied: requests in /usr/local/lib/python3.7/dist-packages (from transformers) (2.23.0)\n",
            "Requirement already satisfied: tqdm>=4.27 in /usr/local/lib/python3.7/dist-packages (from transformers) (4.41.1)\n",
            "Requirement already satisfied: packaging in /usr/local/lib/python3.7/dist-packages (from transformers) (20.9)\n",
            "Requirement already satisfied: click in /usr/local/lib/python3.7/dist-packages (from sacremoses->transformers) (7.1.2)\n",
            "Requirement already satisfied: joblib in /usr/local/lib/python3.7/dist-packages (from sacremoses->transformers) (1.0.1)\n",
            "Requirement already satisfied: six in /usr/local/lib/python3.7/dist-packages (from sacremoses->transformers) (1.15.0)\n",
            "Requirement already satisfied: typing-extensions>=3.6.4; python_version < \"3.8\" in /usr/local/lib/python3.7/dist-packages (from importlib-metadata; python_version < \"3.8\"->transformers) (3.7.4.3)\n",
            "Requirement already satisfied: zipp>=0.5 in /usr/local/lib/python3.7/dist-packages (from importlib-metadata; python_version < \"3.8\"->transformers) (3.4.1)\n",
            "Requirement already satisfied: certifi>=2017.4.17 in /usr/local/lib/python3.7/dist-packages (from requests->transformers) (2020.12.5)\n",
            "Requirement already satisfied: urllib3!=1.25.0,!=1.25.1,<1.26,>=1.21.1 in /usr/local/lib/python3.7/dist-packages (from requests->transformers) (1.24.3)\n",
            "Requirement already satisfied: idna<3,>=2.5 in /usr/local/lib/python3.7/dist-packages (from requests->transformers) (2.10)\n",
            "Requirement already satisfied: chardet<4,>=3.0.2 in /usr/local/lib/python3.7/dist-packages (from requests->transformers) (3.0.4)\n",
            "Requirement already satisfied: pyparsing>=2.0.2 in /usr/local/lib/python3.7/dist-packages (from packaging->transformers) (2.4.7)\n",
            "Requirement already satisfied: emoji in /usr/local/lib/python3.7/dist-packages (1.2.0)\n"
          ],
          "name": "stdout"
        }
      ]
    },
    {
      "cell_type": "code",
      "metadata": {
        "id": "3yzQpKAApnoG"
      },
      "source": [
        "# Datasets de entrenamiento.\n",
        "train = {\n",
        "    'anger': pd.read_csv('https://raw.githubusercontent.com/dccuchile/CC6205/master/assignments/assignment_1/data/train/anger-train.txt', sep='\\t', names=['id', 'tweet', 'class', 'sentiment_intensity']),\n",
        "    'fear': pd.read_csv('https://raw.githubusercontent.com/dccuchile/CC6205/master/assignments/assignment_1/data/train/fear-train.txt', sep='\\t', names=['id', 'tweet', 'class', 'sentiment_intensity']),\n",
        "    'joy': pd.read_csv('https://raw.githubusercontent.com/dccuchile/CC6205/master/assignments/assignment_1/data/train/joy-train.txt', sep='\\t', names=['id', 'tweet', 'class', 'sentiment_intensity']),\n",
        "    'sadness': pd.read_csv('https://raw.githubusercontent.com/dccuchile/CC6205/master/assignments/assignment_1/data/train/sadness-train.txt', sep='\\t', names=['id', 'tweet', 'class', 'sentiment_intensity'])\n",
        "}\n",
        "# Datasets que deberán predecir para la competencia.\n",
        "target = {\n",
        "    'anger': pd.read_csv('https://raw.githubusercontent.com/dccuchile/CC6205/master/assignments/assignment_1/data/target/anger-target.txt', sep='\\t', names=['id', 'tweet', 'class', 'sentiment_intensity'], na_values=['NONE']),\n",
        "    'fear': pd.read_csv('https://raw.githubusercontent.com/dccuchile/CC6205/master/assignments/assignment_1/data/target/fear-target.txt', sep='\\t', names=['id', 'tweet', 'class', 'sentiment_intensity'], na_values=['NONE']),\n",
        "    'joy': pd.read_csv('https://raw.githubusercontent.com/dccuchile/CC6205/master/assignments/assignment_1/data/target/joy-target.txt', sep='\\t', names=['id', 'tweet', 'class', 'sentiment_intensity'], na_values=['NONE']),\n",
        "    'sadness': pd.read_csv('https://raw.githubusercontent.com/dccuchile/CC6205/master/assignments/assignment_1/data/target/sadness-target.txt', sep='\\t', names=['id', 'tweet', 'class', 'sentiment_intensity'], na_values=['NONE'])}"
      ],
      "execution_count": 2,
      "outputs": []
    },
    {
      "cell_type": "code",
      "metadata": {
        "colab": {
          "base_uri": "https://localhost:8080/",
          "height": 202
        },
        "id": "6VjxZGanq_9B",
        "outputId": "100faf10-cb6b-4512-bce6-52afd7484e35"
      },
      "source": [
        "# Ejemplo de algunas filas aleatorias del dataset etiquetado:\n",
        "train['anger'].sample(5)"
      ],
      "execution_count": 3,
      "outputs": [
        {
          "output_type": "execute_result",
          "data": {
            "text/html": [
              "<div>\n",
              "<style scoped>\n",
              "    .dataframe tbody tr th:only-of-type {\n",
              "        vertical-align: middle;\n",
              "    }\n",
              "\n",
              "    .dataframe tbody tr th {\n",
              "        vertical-align: top;\n",
              "    }\n",
              "\n",
              "    .dataframe thead th {\n",
              "        text-align: right;\n",
              "    }\n",
              "</style>\n",
              "<table border=\"1\" class=\"dataframe\">\n",
              "  <thead>\n",
              "    <tr style=\"text-align: right;\">\n",
              "      <th></th>\n",
              "      <th>id</th>\n",
              "      <th>tweet</th>\n",
              "      <th>class</th>\n",
              "      <th>sentiment_intensity</th>\n",
              "    </tr>\n",
              "  </thead>\n",
              "  <tbody>\n",
              "    <tr>\n",
              "      <th>586</th>\n",
              "      <td>10586</td>\n",
              "      <td>my momma irritate me asking all these question...</td>\n",
              "      <td>anger</td>\n",
              "      <td>medium</td>\n",
              "    </tr>\n",
              "    <tr>\n",
              "      <th>216</th>\n",
              "      <td>10216</td>\n",
              "      <td>I don't talk about politics because people now...</td>\n",
              "      <td>anger</td>\n",
              "      <td>medium</td>\n",
              "    </tr>\n",
              "    <tr>\n",
              "      <th>142</th>\n",
              "      <td>10142</td>\n",
              "      <td>i had an hour of football practice under the b...</td>\n",
              "      <td>anger</td>\n",
              "      <td>high</td>\n",
              "    </tr>\n",
              "    <tr>\n",
              "      <th>3</th>\n",
              "      <td>10003</td>\n",
              "      <td>so ef whichever butt wipe pulled the fire alar...</td>\n",
              "      <td>anger</td>\n",
              "      <td>high</td>\n",
              "    </tr>\n",
              "    <tr>\n",
              "      <th>161</th>\n",
              "      <td>10161</td>\n",
              "      <td>@Slippus @PureGym  yeah I received a fine toda...</td>\n",
              "      <td>anger</td>\n",
              "      <td>medium</td>\n",
              "    </tr>\n",
              "  </tbody>\n",
              "</table>\n",
              "</div>"
            ],
            "text/plain": [
              "        id  ... sentiment_intensity\n",
              "586  10586  ...              medium\n",
              "216  10216  ...              medium\n",
              "142  10142  ...                high\n",
              "3    10003  ...                high\n",
              "161  10161  ...              medium\n",
              "\n",
              "[5 rows x 4 columns]"
            ]
          },
          "metadata": {
            "tags": []
          },
          "execution_count": 3
        }
      ]
    },
    {
      "cell_type": "markdown",
      "metadata": {
        "id": "RDl8Ft-FvxYU"
      },
      "source": [
        "# Clase Dataset\n"
      ]
    },
    {
      "cell_type": "code",
      "metadata": {
        "colab": {
          "base_uri": "https://localhost:8080/"
        },
        "id": "p9DnWbIhvw3Z",
        "outputId": "45b86092-1dc4-4686-bf00-3e92306241c9"
      },
      "source": [
        "tokenizer = AutoTokenizer.from_pretrained(\"vinai/bertweet-base\", use_fast=False, padding_side = 'right')\n",
        "\n",
        "def pad_sequences(datalist, pad_idx):\n",
        "\n",
        "  lens = [len(sentence) for sentence, label in datalist]\n",
        "  max_len = max(lens)\n",
        "\n",
        "  batch = torch.IntTensor([list(data[0]) + [pad_idx]*(max_len - lens[i]) for i, data in enumerate(datalist)])\n",
        "  labels = torch.LongTensor([label for sentence, label in datalist])\n",
        "\n",
        "  return batch, labels\n",
        "\n",
        "\n",
        "class TweetDataSet(Dataset):\n",
        "\n",
        "  def __init__(self, data):\n",
        "\n",
        "    self.intensities = list(data['sentiment_intensity'].unique())\n",
        "\n",
        "    self.intensity2idx = {intensity: i for i, intensity in enumerate(self.intensities)}\n",
        "\n",
        "    self.X = [tokenizer.encode(line) for line in list(data['tweet'].values)] # tokinized ids\n",
        "    self.Y = [self.intensity2idx[intensity] for intensity in list(data['sentiment_intensity'].values)]\n",
        "\n",
        "  def __len__(self):\n",
        "    return len(self.X)\n",
        "\n",
        "  def __getitem__(self, i):\n",
        "    return torch.tensor(self.X[i]), torch.tensor(self.Y[i])"
      ],
      "execution_count": 4,
      "outputs": [
        {
          "output_type": "stream",
          "text": [
            "Special tokens have been added in the vocabulary, make sure the associated word embedding are fine-tuned or trained.\n"
          ],
          "name": "stderr"
        }
      ]
    },
    {
      "cell_type": "markdown",
      "metadata": {
        "id": "B4LkgbrUw8yx"
      },
      "source": [
        "# Modelo"
      ]
    },
    {
      "cell_type": "code",
      "metadata": {
        "id": "FDUPUqfLw79a"
      },
      "source": [
        "class BertweetCLF(nn.Module):\n",
        "\n",
        "  def __init__(self):\n",
        "    super(BertweetCLF, self).__init__()\n",
        "\n",
        "    self.bertweet = AutoModel.from_pretrained(\"vinai/bertweet-base\")\n",
        "\n",
        "    #self.lstm = nn.LSTM(768, 1024, num_layers = 2, dropout = 0.3)\n",
        "\n",
        "    #self.fc = nn.Linear(768, 3)\n",
        "\n",
        "\n",
        "  def forward(self, X):\n",
        "\n",
        "    X = self.bertweet(X)\n",
        "\n",
        "    #H, S  = self.lstm(torch.transpose(X[0], 0, 1))\n",
        "    # return self.fc(X[1])\n",
        "    return X[1]  # X[1] -> (batch_size, 768)\n",
        "\n",
        "  def num_parameters(self):\n",
        "    total = 0\n",
        "    for p in self.parameters():\n",
        "      total += p.numel()\n",
        "      \n",
        "    return total\n",
        "\n",
        "class linear_layer(nn.Module):\n",
        "  \"\"\"\n",
        "  Capa linear o fully connected clásica\n",
        "  \"\"\"\n",
        "  def __init__(self, in_filter = 768, out_filter = 3):\n",
        "    super(linear_layer, self).__init__()\n",
        "    mid_1 = 2048#1024\n",
        "    #mid_2 = 512\n",
        "    \n",
        "    self.fc1  = nn.Sequential(\n",
        "        nn.Linear(in_filter, mid_1),  # (768, 2048)\n",
        "        nn.ReLU(),\n",
        "        nn.BatchNorm1d(mid_1)\n",
        "        )\n",
        "    \n",
        "    self.fc2  = nn.Sequential(\n",
        "        nn.Linear(mid_1, mid_1), # (2048, 2048)\n",
        "        nn.ReLU(),\n",
        "        nn.BatchNorm1d(mid_1))\n",
        "    \n",
        "    self.fc3  = nn.Sequential(\n",
        "        nn.Linear(mid_1, out_filter), # (2048, 3)\n",
        "        nn.ReLU(),\n",
        "        nn.BatchNorm1d(out_filter))\n",
        "\n",
        "  def forward(self, x):\n",
        "    x = self.fc1(x)\n",
        "    x = self.fc2(x)\n",
        "    out = self.fc3(x)\n",
        "    return out"
      ],
      "execution_count": 5,
      "outputs": []
    },
    {
      "cell_type": "markdown",
      "metadata": {
        "id": "N1D0D5N3SXrQ"
      },
      "source": [
        "# Dataset"
      ]
    },
    {
      "cell_type": "code",
      "metadata": {
        "id": "YdricwLU39bM"
      },
      "source": [
        "batch_size, num_workers = 32, 4"
      ],
      "execution_count": 19,
      "outputs": []
    },
    {
      "cell_type": "markdown",
      "metadata": {
        "id": "zKHtiizR4AEu"
      },
      "source": [
        "### Angry"
      ]
    },
    {
      "cell_type": "code",
      "metadata": {
        "id": "6STbO3lp3_0W"
      },
      "source": [
        ""
      ],
      "execution_count": null,
      "outputs": []
    },
    {
      "cell_type": "markdown",
      "metadata": {
        "id": "klcDpFGI4FOX"
      },
      "source": [
        "### Fear"
      ]
    },
    {
      "cell_type": "code",
      "metadata": {
        "id": "G9eOyWLY3_lF"
      },
      "source": [
        ""
      ],
      "execution_count": null,
      "outputs": []
    },
    {
      "cell_type": "markdown",
      "metadata": {
        "id": "qmtt_jXt4HyE"
      },
      "source": [
        "### Joy "
      ]
    },
    {
      "cell_type": "code",
      "metadata": {
        "id": "L9faIl_E3_Y0"
      },
      "source": [
        ""
      ],
      "execution_count": null,
      "outputs": []
    },
    {
      "cell_type": "code",
      "metadata": {
        "colab": {
          "base_uri": "https://localhost:8080/"
        },
        "id": "xLQ_F9U8zqiX",
        "outputId": "4cebf9f0-dac6-4f25-e31a-060d4283fb90"
      },
      "source": [
        "## Angry \n",
        "dataset_angry = TweetDataSet(train['anger'])\n",
        "train_split_angry = int(len(dataset_angry)*0.9)\n",
        "train_dataset_angry, val_dataset_angry = torch.utils.data.random_split(dataset_angry, [train_split_angry, len(dataset_angry) - train_split_angry])\n",
        "\n",
        "train_dataloader_angry = DataLoader(\n",
        "    train_dataset_angry, batch_size=batch_size, shuffle=True, \n",
        "    collate_fn=lambda data_list: pad_sequences(data_list, tokenizer.pad_token_id))\n",
        "\n",
        "val_dataloader_angry = DataLoader(\n",
        "    val_dataset_angry, batch_size=batch_size, shuffle=False, \n",
        "    collate_fn=lambda data_list: pad_sequences(data_list, tokenizer.pad_token_id))\n",
        "\n",
        "print(len(dataset_angry))\n",
        "print(len(train_dataset_angry))\n",
        "print(len(val_dataset_angry))\n",
        "\n",
        "## Fear\n",
        "dataset_fear = TweetDataSet(train['fear'])\n",
        "train_split_fear = int(len(dataset_fear)*0.9)\n",
        "train_dataset_fear, val_dataset_fear = torch.utils.data.random_split(dataset_fear, [train_split_fear, len(dataset_fear) - train_split_fear])\n",
        "\n",
        "train_dataloader_fear = DataLoader(\n",
        "    train_dataset_fear, batch_size=batch_size, shuffle=True, \n",
        "    collate_fn=lambda data_list: pad_sequences(data_list, tokenizer.pad_token_id))\n",
        "\n",
        "val_dataloader_fear = DataLoader(\n",
        "    val_dataset_fear, batch_size=batch_size, shuffle=False, \n",
        "    collate_fn=lambda data_list: pad_sequences(data_list, tokenizer.pad_token_id))\n",
        "\n",
        "print(len(dataset_fear))\n",
        "print(len(train_dataset_fear))\n",
        "print(len(val_dataset_fear))\n",
        "\n",
        "## Joy \n",
        "dataset_joy = TweetDataSet(train['joy'])\n",
        "train_split_joy = int(len(dataset_joy)*0.9)\n",
        "train_dataset_joy, val_dataset_joy = torch.utils.data.random_split(dataset, [train_split_joy, len(dataset_joy) - train_split_joy])\n",
        "\n",
        "train_dataloader_joy = DataLoader(\n",
        "    train_dataset_joy, batch_size=batch_size, shuffle=True, \n",
        "    collate_fn=lambda data_list: pad_sequences(data_list, tokenizer.pad_token_id))\n",
        "\n",
        "val_dataloader_joy = DataLoader(\n",
        "    val_dataset_joy, batch_size=batch_size, shuffle=False, \n",
        "    collate_fn=lambda data_list: pad_sequences(data_list, tokenizer.pad_token_id))\n",
        "\n",
        "print(len(dataset_joy))\n",
        "print(len(train_dataset_joy))\n",
        "print(len(val_dataset_joy))\n",
        "\n",
        "## Sadness\n",
        "dataset_sadness = TweetDataSet(train['sadness'])\n",
        "train_split_sadness = int(len(dataset_sadness)*0.9)\n",
        "train_dataset_sadness, val_dataset_sadness = torch.utils.data.random_split(dataset_sadness, [train_split_sadness, len(dataset_sadness) - train_split_sadness])\n",
        "\n",
        "train_dataloader_sadness = DataLoader(\n",
        "    train_dataset_sadness, batch_size=batch_size, shuffle=True, \n",
        "    collate_fn=lambda data_list: pad_sequences(data_list, tokenizer.pad_token_id))\n",
        "\n",
        "val_dataloader_sadness = DataLoader(\n",
        "    val_dataset_sadness, batch_size=batch_size, shuffle=False, \n",
        "    collate_fn=lambda data_list: pad_sequences(data_list, tokenizer.pad_token_id))\n",
        "\n",
        "print(len(dataset_sadness))\n",
        "print(len(train_dataset_sadness))\n",
        "print(len(val_dataset_sadness))\n",
        "\n"
      ],
      "execution_count": 6,
      "outputs": [
        {
          "output_type": "stream",
          "text": [
            "941\n",
            "846\n",
            "95\n"
          ],
          "name": "stdout"
        }
      ]
    },
    {
      "cell_type": "markdown",
      "metadata": {
        "id": "XrnmZV7OSdYW"
      },
      "source": [
        "# Entrenamiento"
      ]
    },
    {
      "cell_type": "code",
      "metadata": {
        "colab": {
          "base_uri": "https://localhost:8080/"
        },
        "id": "ty01yFlAWj_e",
        "outputId": "c5bc36d6-750e-4f3b-985c-f272ab6fe0aa"
      },
      "source": [
        "from google.colab import drive\n",
        "import os\n",
        "drive.mount('/content/gdrive', force_remount=True)\n",
        "root_dir = \"/content/gdrive/My Drive/\"\n",
        "base_dir = root_dir + 'CC6205_PLN/'\n",
        "competencia_1_dir = base_dir + 'Competencias/Competencia_1/'\n",
        "os.makedirs(competencia_1_dir, exist_ok=True)\n",
        "weights_data_path = competencia_1_dir + 'Experimento_vale/'\n",
        "os.makedirs(weights_data_path, exist_ok=True)"
      ],
      "execution_count": 7,
      "outputs": [
        {
          "output_type": "stream",
          "text": [
            "Mounted at /content/gdrive\n"
          ],
          "name": "stdout"
        }
      ]
    },
    {
      "cell_type": "code",
      "metadata": {
        "id": "DE2IHRpHSfd4"
      },
      "source": [
        "def train_net(net, class_layer, epochs, pad_idx, device = 'cuda'):\n",
        "  net = net.to(device)\n",
        "  class_layer = class_layer.to(device)\n",
        "  # Comienza el entrenamiento\n",
        "  optimizador = optim.AdamW(class_layer.parameters(), lr=1e-5, weight_decay=1e-2)\n",
        "  loss_fn     = nn.CrossEntropyLoss(ignore_index=pad_idx)\n",
        "  loss_train, acc_train, loss_dev, acc_dev = [], [], [], []\n",
        "\n",
        "  best_acc, best_epoch  = 0.0, 0.0\n",
        "  for epoch in range(1,epochs+1):\n",
        "    # Variables para las métricas de training\n",
        "    run_loss, run_acc, items = 0.0, 0.0, 0.0\n",
        "    net.eval()\n",
        "    class_layer.train()\n",
        "    for i, data in enumerate(train_dataloader):\n",
        "      X, target = data\n",
        "      X, target = X.to(device), target.to(device)\n",
        " \n",
        "      # Backprop y descenso del gradiente estocastico\n",
        "      optimizador.zero_grad()\n",
        "      with torch.no_grad():\n",
        "        latent_space = net.forward(X)\n",
        "      logits = class_layer.forward(latent_space)\n",
        "\n",
        "      L = loss_fn(logits, target)\n",
        "      L.backward()\n",
        "      optimizador.step()\n",
        "\n",
        "      # Ahora calculamos las métricas y reportamos\n",
        "      items += len(target)\n",
        "      run_loss += L.item()\n",
        "      Y_pred = F.softmax(logits, dim=1)\n",
        "      max_prob, max_idx = torch.max(Y_pred, dim=1)\n",
        "      run_acc += torch.sum(max_idx == target).item()\n",
        "      info = f'\\rEpoch {epoch}: '\n",
        "      info += f'Train Loss:{run_loss/(i+1):02.5f}, '\n",
        "      info += f'Train Acc:{run_acc/items*100:02.1f}%'\n",
        "      sys.stdout.write(info)\n",
        "\n",
        "    loss_train.append(run_loss/(i+1)) # se agregan resultados para plotear\n",
        "    acc_train.append(run_acc/items*100)\n",
        "    \n",
        "    # Validacion -------------------------------------------\n",
        "    val_loss, val_acc, items = 0.0, 0.0, 0.0\n",
        "    class_layer.eval()\n",
        "    net.eval()\n",
        "    with torch.no_grad():\n",
        "      for i, data in enumerate(val_dataloader):\n",
        "        X, target = data\n",
        "        X, target = X.to(device), target.to(device)\n",
        "        latent_space = net.forward(X)\n",
        "        logits  = class_layer.forward(latent_space)\n",
        "        val_loss += loss_fn(logits, target).item()\n",
        "        # Ahora calculamos las métricas y reportamos\n",
        "        items += len(target)\n",
        "        Y_pred = F.softmax(logits, dim=1)\n",
        "        max_prob, max_idx = torch.max(Y_pred, dim=1)\n",
        "        val_acc += torch.sum(max_idx == target).item()\n",
        "\n",
        "    epoch_acc_val = val_acc\n",
        "    if epoch_acc_val > best_acc:\n",
        "        best_acc        = epoch_acc_val\n",
        "        best_epoch      = epoch\n",
        "        torch.save(class_layer.state_dict(), weights_data_path  + 'linear_model_weights.pth')\n",
        "        \n",
        "\n",
        "    info = f', Val Loss:{val_loss/(i+1):02.5f}'\n",
        "    info += f', Val Acc:{val_acc/items*100:02.2f}%.\\n'\n",
        "    sys.stdout.write(info)\n",
        "\n",
        "    loss_dev.append(val_loss/(i+1)) # se agregan resultados para plotear\n",
        "    acc_dev.append(val_acc/items*100)\n",
        "  print(\"--------------------------------------------------------\")\n",
        "  print('Best Model found in epoch: {}, with Validation Accuracy: {}'.format(best_epoch, best_acc))  \n",
        "  return loss_train, acc_train, loss_dev, acc_dev"
      ],
      "execution_count": 10,
      "outputs": []
    },
    {
      "cell_type": "code",
      "metadata": {
        "colab": {
          "base_uri": "https://localhost:8080/"
        },
        "id": "jjN-YwIF4McT",
        "outputId": "35301f6e-249a-4b56-fe79-e7bc1f592f61"
      },
      "source": [
        "bertweet_model  = BertweetCLF()\n",
        "clasificator    = linear_layer()\n",
        "print(\"Parametros totales de la red:\",bertweet_model.num_parameters())\n",
        "\n",
        "EPOCHS = 400\n",
        "loss_train, acc_train, loss_dev, acc_dev = train_net(bertweet_model, clasificator, EPOCHS, tokenizer.pad_token_id)"
      ],
      "execution_count": 11,
      "outputs": [
        {
          "output_type": "stream",
          "text": [
            "Parametros totales de la red: 134899968\n",
            "Epoch 1: Train Loss:1.21222, Train Acc:33.8%, Val Loss:1.07064, Val Acc:13.68%.\n",
            "Epoch 2: Train Loss:1.00677, Train Acc:36.3%, Val Loss:1.04162, Val Acc:21.05%.\n",
            "Epoch 3: Train Loss:0.95167, Train Acc:38.4%, Val Loss:1.05625, Val Acc:23.16%.\n",
            "Epoch 4: Train Loss:0.91228, Train Acc:39.2%, Val Loss:1.10481, Val Acc:31.58%.\n",
            "Epoch 5: Train Loss:0.88216, Train Acc:41.5%, Val Loss:1.04421, Val Acc:30.53%.\n",
            "Epoch 6: Train Loss:0.74866, Train Acc:45.4%, Val Loss:0.97487, Val Acc:31.58%.\n",
            "Epoch 7: Train Loss:0.77221, Train Acc:44.0%, Val Loss:1.07716, Val Acc:40.00%.\n",
            "Epoch 8: Train Loss:0.75451, Train Acc:45.5%, Val Loss:1.01005, Val Acc:41.05%.\n",
            "Epoch 9: Train Loss:0.69590, Train Acc:45.9%, Val Loss:0.99546, Val Acc:48.42%.\n",
            "Epoch 10: Train Loss:0.62551, Train Acc:47.9%, Val Loss:1.00654, Val Acc:35.79%.\n",
            "Epoch 11: Train Loss:0.60740, Train Acc:51.3%, Val Loss:1.01375, Val Acc:48.42%.\n",
            "Epoch 12: Train Loss:0.65717, Train Acc:51.5%, Val Loss:0.98890, Val Acc:42.11%.\n",
            "Epoch 13: Train Loss:0.63864, Train Acc:48.2%, Val Loss:1.04154, Val Acc:36.84%.\n",
            "Epoch 14: Train Loss:0.58377, Train Acc:50.2%, Val Loss:0.89557, Val Acc:36.84%.\n",
            "Epoch 15: Train Loss:0.54401, Train Acc:51.9%, Val Loss:0.95603, Val Acc:42.11%.\n",
            "Epoch 16: Train Loss:0.53478, Train Acc:52.7%, Val Loss:0.96114, Val Acc:33.68%.\n",
            "Epoch 17: Train Loss:0.53460, Train Acc:52.8%, Val Loss:1.00550, Val Acc:38.95%.\n",
            "Epoch 18: Train Loss:0.55912, Train Acc:53.1%, Val Loss:0.96256, Val Acc:48.42%.\n",
            "Epoch 19: Train Loss:0.54644, Train Acc:53.9%, Val Loss:1.05417, Val Acc:36.84%.\n",
            "Epoch 20: Train Loss:0.49130, Train Acc:54.7%, Val Loss:0.91012, Val Acc:41.05%.\n",
            "Epoch 21: Train Loss:0.48430, Train Acc:57.2%, Val Loss:0.95497, Val Acc:42.11%.\n",
            "Epoch 22: Train Loss:0.53383, Train Acc:53.3%, Val Loss:0.92997, Val Acc:40.00%.\n",
            "Epoch 23: Train Loss:0.49405, Train Acc:55.6%, Val Loss:1.03523, Val Acc:36.84%.\n",
            "Epoch 24: Train Loss:0.47200, Train Acc:56.3%, Val Loss:1.03221, Val Acc:33.68%.\n",
            "Epoch 25: Train Loss:0.44216, Train Acc:55.7%, Val Loss:0.94251, Val Acc:35.79%.\n",
            "Epoch 26: Train Loss:0.47963, Train Acc:56.0%, Val Loss:1.03059, Val Acc:41.05%.\n",
            "Epoch 27: Train Loss:0.46034, Train Acc:56.7%, Val Loss:1.10070, Val Acc:35.79%.\n",
            "Epoch 28: Train Loss:0.42840, Train Acc:55.7%, Val Loss:0.94045, Val Acc:40.00%.\n",
            "Epoch 29: Train Loss:0.43884, Train Acc:56.5%, Val Loss:1.13336, Val Acc:37.89%.\n",
            "Epoch 30: Train Loss:0.43630, Train Acc:57.9%, Val Loss:0.99816, Val Acc:29.47%.\n",
            "Epoch 31: Train Loss:0.43361, Train Acc:57.2%, Val Loss:0.95573, Val Acc:40.00%.\n",
            "Epoch 32: Train Loss:0.44945, Train Acc:56.1%, Val Loss:1.03308, Val Acc:50.53%.\n",
            "Epoch 33: Train Loss:0.43847, Train Acc:56.5%, Val Loss:1.04725, Val Acc:44.21%.\n",
            "Epoch 34: Train Loss:0.40120, Train Acc:56.9%, Val Loss:1.26265, Val Acc:31.58%.\n",
            "Epoch 35: Train Loss:0.40673, Train Acc:56.7%, Val Loss:0.93470, Val Acc:43.16%.\n",
            "Epoch 36: Train Loss:0.40596, Train Acc:58.7%, Val Loss:0.97821, Val Acc:42.11%.\n",
            "Epoch 37: Train Loss:0.38518, Train Acc:60.6%, Val Loss:1.15797, Val Acc:32.63%.\n",
            "Epoch 38: Train Loss:0.38742, Train Acc:59.5%, Val Loss:1.05568, Val Acc:34.74%.\n",
            "Epoch 39: Train Loss:0.38320, Train Acc:59.7%, Val Loss:1.08688, Val Acc:41.05%.\n",
            "Epoch 40: Train Loss:0.38959, Train Acc:59.1%, Val Loss:1.01155, Val Acc:35.79%.\n",
            "Epoch 41: Train Loss:0.37519, Train Acc:58.6%, Val Loss:0.98243, Val Acc:38.95%.\n",
            "Epoch 42: Train Loss:0.37106, Train Acc:59.2%, Val Loss:1.02581, Val Acc:43.16%.\n",
            "Epoch 43: Train Loss:0.35149, Train Acc:59.6%, Val Loss:0.96636, Val Acc:38.95%.\n",
            "Epoch 44: Train Loss:0.34569, Train Acc:59.1%, Val Loss:1.06678, Val Acc:32.63%.\n",
            "Epoch 45: Train Loss:0.33583, Train Acc:61.6%, Val Loss:0.91744, Val Acc:42.11%.\n",
            "Epoch 46: Train Loss:0.39478, Train Acc:60.2%, Val Loss:0.92866, Val Acc:44.21%.\n",
            "Epoch 47: Train Loss:0.35965, Train Acc:60.4%, Val Loss:1.03128, Val Acc:35.79%.\n",
            "Epoch 48: Train Loss:0.33661, Train Acc:63.5%, Val Loss:1.01465, Val Acc:41.05%.\n",
            "Epoch 49: Train Loss:0.35040, Train Acc:60.2%, Val Loss:0.95302, Val Acc:40.00%.\n",
            "Epoch 50: Train Loss:0.32408, Train Acc:61.7%, Val Loss:0.96795, Val Acc:45.26%.\n",
            "Epoch 51: Train Loss:0.35060, Train Acc:60.4%, Val Loss:1.12294, Val Acc:32.63%.\n",
            "Epoch 52: Train Loss:0.33151, Train Acc:61.2%, Val Loss:0.96683, Val Acc:34.74%.\n",
            "Epoch 53: Train Loss:0.34362, Train Acc:60.8%, Val Loss:0.95159, Val Acc:43.16%.\n",
            "Epoch 54: Train Loss:0.35026, Train Acc:61.6%, Val Loss:1.12175, Val Acc:28.42%.\n",
            "Epoch 55: Train Loss:0.33839, Train Acc:62.6%, Val Loss:0.87657, Val Acc:36.84%.\n",
            "Epoch 56: Train Loss:0.33434, Train Acc:60.6%, Val Loss:1.08516, Val Acc:46.32%.\n",
            "Epoch 57: Train Loss:0.34325, Train Acc:61.8%, Val Loss:0.94633, Val Acc:38.95%.\n",
            "Epoch 58: Train Loss:0.34059, Train Acc:62.5%, Val Loss:0.94226, Val Acc:43.16%.\n",
            "Epoch 59: Train Loss:0.35619, Train Acc:59.8%, Val Loss:0.86820, Val Acc:35.79%.\n",
            "Epoch 60: Train Loss:0.32916, Train Acc:60.4%, Val Loss:1.13742, Val Acc:46.32%.\n",
            "Epoch 61: Train Loss:0.33365, Train Acc:62.3%, Val Loss:0.84646, Val Acc:40.00%.\n",
            "Epoch 62: Train Loss:0.33356, Train Acc:60.3%, Val Loss:0.92774, Val Acc:43.16%.\n",
            "Epoch 63: Train Loss:0.34261, Train Acc:60.5%, Val Loss:1.03847, Val Acc:50.53%.\n",
            "Epoch 64: Train Loss:0.33226, Train Acc:61.8%, Val Loss:0.99788, Val Acc:38.95%.\n",
            "Epoch 65: Train Loss:0.33272, Train Acc:62.8%, Val Loss:1.04086, Val Acc:34.74%.\n",
            "Epoch 66: Train Loss:0.31977, Train Acc:62.1%, Val Loss:0.91271, Val Acc:44.21%.\n",
            "Epoch 67: Train Loss:0.31732, Train Acc:61.9%, Val Loss:0.96442, Val Acc:43.16%.\n",
            "Epoch 68: Train Loss:0.31688, Train Acc:64.7%, Val Loss:0.97002, Val Acc:40.00%.\n",
            "Epoch 69: Train Loss:0.30517, Train Acc:62.9%, Val Loss:0.92698, Val Acc:43.16%.\n",
            "Epoch 70: Train Loss:0.29075, Train Acc:64.7%, Val Loss:0.88095, Val Acc:40.00%.\n",
            "Epoch 71: Train Loss:0.31522, Train Acc:62.2%, Val Loss:0.89423, Val Acc:41.05%.\n",
            "Epoch 72: Train Loss:0.31096, Train Acc:62.5%, Val Loss:1.01534, Val Acc:40.00%.\n",
            "Epoch 73: Train Loss:0.29437, Train Acc:63.5%, Val Loss:1.11481, Val Acc:33.68%.\n",
            "Epoch 74: Train Loss:0.31266, Train Acc:62.5%, Val Loss:0.92297, Val Acc:43.16%.\n",
            "Epoch 75: Train Loss:0.28402, Train Acc:64.8%, Val Loss:1.08744, Val Acc:42.11%.\n",
            "Epoch 76: Train Loss:0.28180, Train Acc:65.0%, Val Loss:0.97957, Val Acc:49.47%.\n",
            "Epoch 77: Train Loss:0.35018, Train Acc:61.5%, Val Loss:0.89680, Val Acc:47.37%.\n",
            "Epoch 78: Train Loss:0.27593, Train Acc:64.5%, Val Loss:1.06314, Val Acc:45.26%.\n",
            "Epoch 79: Train Loss:0.30222, Train Acc:61.5%, Val Loss:0.97013, Val Acc:43.16%.\n",
            "Epoch 80: Train Loss:0.25935, Train Acc:64.7%, Val Loss:1.01876, Val Acc:33.68%.\n",
            "Epoch 81: Train Loss:0.29860, Train Acc:63.9%, Val Loss:0.94668, Val Acc:43.16%.\n",
            "Epoch 82: Train Loss:0.27642, Train Acc:61.3%, Val Loss:0.90593, Val Acc:42.11%.\n",
            "Epoch 83: Train Loss:0.27414, Train Acc:64.2%, Val Loss:1.04004, Val Acc:40.00%.\n",
            "Epoch 84: Train Loss:0.27513, Train Acc:62.6%, Val Loss:0.91354, Val Acc:44.21%.\n",
            "Epoch 85: Train Loss:0.27278, Train Acc:63.6%, Val Loss:0.87400, Val Acc:43.16%.\n",
            "Epoch 86: Train Loss:0.26901, Train Acc:63.9%, Val Loss:0.82219, Val Acc:43.16%.\n",
            "Epoch 87: Train Loss:0.29236, Train Acc:63.1%, Val Loss:0.85947, Val Acc:43.16%.\n",
            "Epoch 88: Train Loss:0.26741, Train Acc:64.3%, Val Loss:0.97383, Val Acc:36.84%.\n",
            "Epoch 89: Train Loss:0.29497, Train Acc:64.4%, Val Loss:0.90573, Val Acc:46.32%.\n",
            "Epoch 90: Train Loss:0.27431, Train Acc:64.9%, Val Loss:0.91089, Val Acc:41.05%.\n",
            "Epoch 91: Train Loss:0.29926, Train Acc:64.4%, Val Loss:1.01707, Val Acc:35.79%.\n",
            "Epoch 92: Train Loss:0.26657, Train Acc:64.4%, Val Loss:0.90925, Val Acc:45.26%.\n",
            "Epoch 93: Train Loss:0.30003, Train Acc:64.2%, Val Loss:1.04869, Val Acc:41.05%.\n",
            "Epoch 94: Train Loss:0.27093, Train Acc:67.0%, Val Loss:0.91297, Val Acc:43.16%.\n",
            "Epoch 95: Train Loss:0.28253, Train Acc:64.3%, Val Loss:0.97058, Val Acc:42.11%.\n",
            "Epoch 96: Train Loss:0.26712, Train Acc:64.1%, Val Loss:1.19313, Val Acc:32.63%.\n",
            "Epoch 97: Train Loss:0.28611, Train Acc:63.8%, Val Loss:0.90023, Val Acc:44.21%.\n",
            "Epoch 98: Train Loss:0.25481, Train Acc:63.6%, Val Loss:0.95623, Val Acc:44.21%.\n",
            "Epoch 99: Train Loss:0.28413, Train Acc:63.9%, Val Loss:0.83343, Val Acc:36.84%.\n",
            "Epoch 100: Train Loss:0.24065, Train Acc:65.2%, Val Loss:0.85957, Val Acc:37.89%.\n",
            "Epoch 101: Train Loss:0.28491, Train Acc:64.8%, Val Loss:0.85870, Val Acc:43.16%.\n",
            "Epoch 102: Train Loss:0.27911, Train Acc:63.8%, Val Loss:0.94488, Val Acc:38.95%.\n",
            "Epoch 103: Train Loss:0.26656, Train Acc:64.9%, Val Loss:0.92027, Val Acc:42.11%.\n",
            "Epoch 104: Train Loss:0.24584, Train Acc:65.5%, Val Loss:0.92672, Val Acc:30.53%.\n",
            "Epoch 105: Train Loss:0.26316, Train Acc:64.1%, Val Loss:0.91647, Val Acc:36.84%.\n",
            "Epoch 106: Train Loss:0.26806, Train Acc:63.5%, Val Loss:0.86063, Val Acc:38.95%.\n",
            "Epoch 107: Train Loss:0.28601, Train Acc:62.6%, Val Loss:0.99640, Val Acc:37.89%.\n",
            "Epoch 108: Train Loss:0.31111, Train Acc:63.1%, Val Loss:0.92591, Val Acc:40.00%.\n",
            "Epoch 109: Train Loss:0.26685, Train Acc:63.4%, Val Loss:0.93320, Val Acc:42.11%.\n",
            "Epoch 110: Train Loss:0.26824, Train Acc:66.1%, Val Loss:0.89187, Val Acc:45.26%.\n",
            "Epoch 111: Train Loss:0.25759, Train Acc:64.9%, Val Loss:0.79471, Val Acc:33.68%.\n",
            "Epoch 112: Train Loss:0.25036, Train Acc:64.8%, Val Loss:0.94149, Val Acc:31.58%.\n",
            "Epoch 113: Train Loss:0.25437, Train Acc:65.5%, Val Loss:0.91245, Val Acc:33.68%.\n",
            "Epoch 114: Train Loss:0.25708, Train Acc:64.7%, Val Loss:0.87640, Val Acc:40.00%.\n",
            "Epoch 115: Train Loss:0.28697, Train Acc:66.3%, Val Loss:0.86624, Val Acc:34.74%.\n",
            "Epoch 116: Train Loss:0.28181, Train Acc:64.5%, Val Loss:0.85994, Val Acc:43.16%.\n",
            "Epoch 117: Train Loss:0.24271, Train Acc:66.1%, Val Loss:0.86478, Val Acc:41.05%.\n",
            "Epoch 118: Train Loss:0.26018, Train Acc:66.0%, Val Loss:0.91406, Val Acc:29.47%.\n",
            "Epoch 119: Train Loss:0.27181, Train Acc:63.6%, Val Loss:0.81347, Val Acc:38.95%.\n",
            "Epoch 120: Train Loss:0.25754, Train Acc:65.2%, Val Loss:0.79015, Val Acc:37.89%.\n",
            "Epoch 121: Train Loss:0.26428, Train Acc:67.3%, Val Loss:1.03044, Val Acc:37.89%.\n",
            "Epoch 122: Train Loss:0.24350, Train Acc:68.2%, Val Loss:0.88155, Val Acc:41.05%.\n",
            "Epoch 123: Train Loss:0.25488, Train Acc:66.4%, Val Loss:0.86921, Val Acc:37.89%.\n",
            "Epoch 124: Train Loss:0.24975, Train Acc:66.3%, Val Loss:0.90087, Val Acc:36.84%.\n",
            "Epoch 125: Train Loss:0.25492, Train Acc:65.4%, Val Loss:0.80605, Val Acc:38.95%.\n",
            "Epoch 126: Train Loss:0.21812, Train Acc:66.0%, Val Loss:0.79805, Val Acc:43.16%.\n",
            "Epoch 127: Train Loss:0.25054, Train Acc:64.4%, Val Loss:0.93547, Val Acc:41.05%.\n",
            "Epoch 128: Train Loss:0.29939, Train Acc:65.4%, Val Loss:0.89228, Val Acc:34.74%.\n",
            "Epoch 129: Train Loss:0.25729, Train Acc:65.8%, Val Loss:0.87594, Val Acc:42.11%.\n",
            "Epoch 130: Train Loss:0.26779, Train Acc:65.1%, Val Loss:0.90922, Val Acc:36.84%.\n",
            "Epoch 131: Train Loss:0.23178, Train Acc:67.7%, Val Loss:0.77812, Val Acc:37.89%.\n",
            "Epoch 132: Train Loss:0.24731, Train Acc:67.5%, Val Loss:0.80221, Val Acc:38.95%.\n",
            "Epoch 133: Train Loss:0.25631, Train Acc:65.1%, Val Loss:0.95159, Val Acc:49.47%.\n",
            "Epoch 134: Train Loss:0.24224, Train Acc:66.3%, Val Loss:0.73482, Val Acc:38.95%.\n",
            "Epoch 135: Train Loss:0.23781, Train Acc:66.8%, Val Loss:0.85665, Val Acc:49.47%.\n",
            "Epoch 136: Train Loss:0.27230, Train Acc:66.2%, Val Loss:0.81537, Val Acc:41.05%.\n",
            "Epoch 137: Train Loss:0.24141, Train Acc:66.0%, Val Loss:1.03332, Val Acc:44.21%.\n",
            "Epoch 138: Train Loss:0.26455, Train Acc:65.4%, Val Loss:0.94799, Val Acc:36.84%.\n",
            "Epoch 139: Train Loss:0.25724, Train Acc:66.3%, Val Loss:0.98656, Val Acc:44.21%.\n",
            "Epoch 140: Train Loss:0.25062, Train Acc:67.1%, Val Loss:0.84906, Val Acc:42.11%.\n",
            "Epoch 141: Train Loss:0.22881, Train Acc:66.1%, Val Loss:1.02691, Val Acc:40.00%.\n",
            "Epoch 142: Train Loss:0.25001, Train Acc:67.4%, Val Loss:0.79613, Val Acc:40.00%.\n",
            "Epoch 143: Train Loss:0.23722, Train Acc:66.7%, Val Loss:0.94770, Val Acc:44.21%.\n",
            "Epoch 144: Train Loss:0.24014, Train Acc:66.9%, Val Loss:0.81452, Val Acc:38.95%.\n",
            "Epoch 145: Train Loss:0.23887, Train Acc:67.8%, Val Loss:0.90135, Val Acc:42.11%.\n",
            "Epoch 146: Train Loss:0.26036, Train Acc:66.9%, Val Loss:0.82339, Val Acc:37.89%.\n",
            "Epoch 147: Train Loss:0.22871, Train Acc:67.0%, Val Loss:0.88759, Val Acc:41.05%.\n",
            "Epoch 148: Train Loss:0.23845, Train Acc:66.2%, Val Loss:0.89462, Val Acc:35.79%.\n",
            "Epoch 149: Train Loss:0.25183, Train Acc:65.6%, Val Loss:0.87714, Val Acc:37.89%.\n",
            "Epoch 150: Train Loss:0.22704, Train Acc:66.0%, Val Loss:0.79093, Val Acc:34.74%.\n",
            "Epoch 151: Train Loss:0.27457, Train Acc:65.1%, Val Loss:0.84482, Val Acc:36.84%.\n",
            "Epoch 152: Train Loss:0.24351, Train Acc:65.6%, Val Loss:0.89827, Val Acc:36.84%.\n",
            "Epoch 153: Train Loss:0.22956, Train Acc:66.7%, Val Loss:0.83454, Val Acc:41.05%.\n",
            "Epoch 154: Train Loss:0.24388, Train Acc:67.3%, Val Loss:0.98250, Val Acc:43.16%.\n",
            "Epoch 155: Train Loss:0.20978, Train Acc:68.2%, Val Loss:0.95955, Val Acc:46.32%.\n",
            "Epoch 156: Train Loss:0.24150, Train Acc:66.4%, Val Loss:0.88899, Val Acc:37.89%.\n",
            "Epoch 157: Train Loss:0.21035, Train Acc:66.9%, Val Loss:0.82714, Val Acc:35.79%.\n",
            "Epoch 158: Train Loss:0.25329, Train Acc:65.8%, Val Loss:0.84169, Val Acc:34.74%.\n",
            "Epoch 159: Train Loss:0.25202, Train Acc:66.1%, Val Loss:0.98220, Val Acc:48.42%.\n",
            "Epoch 160: Train Loss:0.20215, Train Acc:68.8%, Val Loss:0.82317, Val Acc:35.79%.\n",
            "Epoch 161: Train Loss:0.20983, Train Acc:68.2%, Val Loss:0.93934, Val Acc:36.84%.\n",
            "Epoch 162: Train Loss:0.22562, Train Acc:68.4%, Val Loss:0.87204, Val Acc:31.58%.\n",
            "Epoch 163: Train Loss:0.20079, Train Acc:68.8%, Val Loss:0.80533, Val Acc:38.95%.\n",
            "Epoch 164: Train Loss:0.23420, Train Acc:66.0%, Val Loss:0.75912, Val Acc:42.11%.\n",
            "Epoch 165: Train Loss:0.22426, Train Acc:66.8%, Val Loss:0.78194, Val Acc:40.00%.\n",
            "Epoch 166: Train Loss:0.21595, Train Acc:69.5%, Val Loss:0.99252, Val Acc:49.47%.\n",
            "Epoch 167: Train Loss:0.20512, Train Acc:68.4%, Val Loss:0.89202, Val Acc:32.63%.\n",
            "Epoch 168: Train Loss:0.23827, Train Acc:66.8%, Val Loss:0.85574, Val Acc:41.05%.\n",
            "Epoch 169: Train Loss:0.21396, Train Acc:67.7%, Val Loss:0.86132, Val Acc:37.89%.\n",
            "Epoch 170: Train Loss:0.22586, Train Acc:68.7%, Val Loss:0.78589, Val Acc:33.68%.\n",
            "Epoch 171: Train Loss:0.23746, Train Acc:68.2%, Val Loss:1.05503, Val Acc:35.79%.\n",
            "Epoch 172: Train Loss:0.23108, Train Acc:67.1%, Val Loss:0.86409, Val Acc:36.84%.\n",
            "Epoch 173: Train Loss:0.23797, Train Acc:67.4%, Val Loss:0.87048, Val Acc:44.21%.\n",
            "Epoch 174: Train Loss:0.24074, Train Acc:68.0%, Val Loss:0.77440, Val Acc:35.79%.\n",
            "Epoch 175: Train Loss:0.20921, Train Acc:67.3%, Val Loss:1.01063, Val Acc:34.74%.\n",
            "Epoch 176: Train Loss:0.19959, Train Acc:67.6%, Val Loss:0.99099, Val Acc:34.74%.\n",
            "Epoch 177: Train Loss:0.23574, Train Acc:67.7%, Val Loss:0.83120, Val Acc:34.74%.\n",
            "Epoch 178: Train Loss:0.22564, Train Acc:67.7%, Val Loss:0.82666, Val Acc:37.89%.\n",
            "Epoch 179: Train Loss:0.21257, Train Acc:67.5%, Val Loss:0.92297, Val Acc:41.05%.\n",
            "Epoch 180: Train Loss:0.23294, Train Acc:67.8%, Val Loss:0.90678, Val Acc:41.05%.\n",
            "Epoch 181: Train Loss:0.22767, Train Acc:66.8%, Val Loss:0.92312, Val Acc:37.89%.\n",
            "Epoch 182: Train Loss:0.23857, Train Acc:66.8%, Val Loss:0.91720, Val Acc:36.84%.\n",
            "Epoch 183: Train Loss:0.22853, Train Acc:66.8%, Val Loss:1.03509, Val Acc:47.37%.\n",
            "Epoch 184: Train Loss:0.23059, Train Acc:67.7%, Val Loss:1.25042, Val Acc:28.42%.\n",
            "Epoch 185: Train Loss:0.24301, Train Acc:66.4%, Val Loss:0.95868, Val Acc:36.84%.\n",
            "Epoch 186: Train Loss:0.21939, Train Acc:67.0%, Val Loss:0.84302, Val Acc:46.32%.\n",
            "Epoch 187: Train Loss:0.23226, Train Acc:66.7%, Val Loss:0.95243, Val Acc:44.21%.\n",
            "Epoch 188: Train Loss:0.20115, Train Acc:67.3%, Val Loss:0.78768, Val Acc:36.84%.\n",
            "Epoch 189: Train Loss:0.21845, Train Acc:66.4%, Val Loss:0.88555, Val Acc:40.00%.\n",
            "Epoch 190: Train Loss:0.20105, Train Acc:69.9%, Val Loss:0.92362, Val Acc:35.79%.\n",
            "Epoch 191: Train Loss:0.23290, Train Acc:68.4%, Val Loss:0.89811, Val Acc:33.68%.\n",
            "Epoch 192: Train Loss:0.22643, Train Acc:67.4%, Val Loss:1.03136, Val Acc:44.21%.\n",
            "Epoch 193: Train Loss:0.22079, Train Acc:68.3%, Val Loss:0.83395, Val Acc:41.05%.\n",
            "Epoch 194: Train Loss:0.22094, Train Acc:67.6%, Val Loss:0.86426, Val Acc:34.74%.\n",
            "Epoch 195: Train Loss:0.24460, Train Acc:66.5%, Val Loss:1.05229, Val Acc:42.11%.\n",
            "Epoch 196: Train Loss:0.21742, Train Acc:68.4%, Val Loss:0.86102, Val Acc:38.95%.\n",
            "Epoch 197: Train Loss:0.18987, Train Acc:69.3%, Val Loss:0.82357, Val Acc:42.11%.\n",
            "Epoch 198: Train Loss:0.21024, Train Acc:69.4%, Val Loss:0.91579, Val Acc:32.63%.\n",
            "Epoch 199: Train Loss:0.19819, Train Acc:67.4%, Val Loss:0.88439, Val Acc:41.05%.\n",
            "Epoch 200: Train Loss:0.21799, Train Acc:67.7%, Val Loss:0.83663, Val Acc:37.89%.\n",
            "--------------------------------------------------------\n",
            "Best Model found in epoch: 32, with Validation Accuracy: 48.0\n"
          ],
          "name": "stdout"
        }
      ]
    },
    {
      "cell_type": "code",
      "metadata": {
        "id": "_l3Wm0po40q9",
        "colab": {
          "base_uri": "https://localhost:8080/",
          "height": 390
        },
        "outputId": "11bdbc53-bcbc-4246-de44-9106bb42a26e"
      },
      "source": [
        "fig, axes = plt.subplots(1, 2, figsize = (18, 6))\n",
        "\n",
        "axes[0].plot(loss_train, label = 'entrenamiento')\n",
        "axes[0].plot(loss_dev, label = 'validacion')\n",
        "axes[0].set_title(\"Loss por epoca\")\n",
        "axes[0].legend(), axes[0].grid()\n",
        "\n",
        "axes[1].plot(acc_train, label = 'entrenamiento')\n",
        "axes[1].plot(acc_dev, label = 'validacion')\n",
        "axes[1].set_title(\"Accuracy por epoca\")\n",
        "axes[1].legend(), axes[1].grid()\n",
        "\n",
        "plt.show()"
      ],
      "execution_count": 18,
      "outputs": [
        {
          "output_type": "display_data",
          "data": {
            "image/png": "[encoded data removed]",
            "text/plain": [
              "<Figure size 1296x432 with 2 Axes>"
            ]
          },
          "metadata": {
            "tags": [],
            "needs_background": "light"
          }
        }
      ]
    },
    {
      "cell_type": "code",
      "metadata": {
        "id": "SdZnh4DQ0uXn"
      },
      "source": [
        ""
      ],
      "execution_count": null,
      "outputs": []
    },
    {
      "cell_type": "markdown",
      "metadata": {
        "id": "vVPiUYbbSrL5"
      },
      "source": [
        "# Zona de webeo"
      ]
    },
    {
      "cell_type": "code",
      "metadata": {
        "id": "nx4x3cvnrW19",
        "colab": {
          "base_uri": "https://localhost:8080/"
        },
        "outputId": "74f311ac-84db-4d41-e51f-19c9aacab914"
      },
      "source": [
        "bertweet = AutoModel.from_pretrained(\"vinai/bertweet-base\").cuda()\n",
        "\n",
        "# INPUT TWEET IS ALREADY NORMALIZED!\n",
        "#train_sentences = [tokenizer.encode(line) for line in list(train['anger']['tweet'].values)]\n",
        "#train_labels = list(train['anger']['sentiment_intensity'].values)\n",
        "#train_dataset = TweetDataSet(train_sentences)\n",
        "\n",
        "train_dataset = TweetDataSet(train['anger'])\n",
        "\n",
        "batch_size = 32\n",
        "\n",
        "train_dataloader = DataLoader(\n",
        "    train_dataset, batch_size=batch_size, shuffle=True, \n",
        "    collate_fn=lambda data_list: pad_sequences(data_list, tokenizer.pad_token_id))\n",
        "\n",
        "for data in train_dataloader:\n",
        "  X, Y = data\n",
        "  break\n",
        "\n",
        "print(X.size())\n",
        "\n",
        "features = bertweet(X.cuda())\n",
        "\n",
        "print(features.to_tuple()[0].size())\n",
        "print(features.to_tuple()[1].size())"
      ],
      "execution_count": 13,
      "outputs": [
        {
          "output_type": "stream",
          "text": [
            "torch.Size([32, 43])\n",
            "torch.Size([32, 43, 768])\n",
            "torch.Size([32, 768])\n"
          ],
          "name": "stdout"
        }
      ]
    }
  ]
}